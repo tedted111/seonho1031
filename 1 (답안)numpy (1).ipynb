{
 "cells": [
  {
   "cell_type": "code",
   "execution_count": 2,
   "id": "7109f3c2-1e0b-4905-8723-5f801bb9090d",
   "metadata": {
    "tags": []
   },
   "outputs": [],
   "source": [
    "import numpy as np"
   ]
  },
  {
   "cell_type": "markdown",
   "id": "78b820ae-ba61-47b6-940e-2e66a5ed5255",
   "metadata": {},
   "source": [
    "### 문제1\n",
    "0이상 100이하의 임의의 정수들로 구성되는 10행 5열의 2차원 numpy array인 ``score``를 생성하시오."
   ]
  },
  {
   "cell_type": "code",
   "execution_count": 3,
   "id": "2ebb36b5-bf42-46cc-8782-d597810eebdf",
   "metadata": {
    "tags": []
   },
   "outputs": [
    {
     "data": {
      "text/plain": [
       "array([[ 98,  67,  25,  56,   9],\n",
       "       [ 85,  44,  43,  78,  16],\n",
       "       [ 98,   1,   2,  95,  86],\n",
       "       [ 92,  92,  99,  39,  36],\n",
       "       [  6,   6,  83,  92,   0],\n",
       "       [ 72,  93,  24,  57,  62],\n",
       "       [  1,   3,  83,  10,  49],\n",
       "       [ 48,  98,  86,  46, 100],\n",
       "       [ 51,  59,  63,  20,  38],\n",
       "       [ 89,  25,  37,  30,  87]])"
      ]
     },
     "execution_count": 3,
     "metadata": {},
     "output_type": "execute_result"
    }
   ],
   "source": [
    "score = np.random.randint(0, 101,size=(10,5))\n",
    "score"
   ]
  },
  {
   "cell_type": "markdown",
   "id": "febbdffd-d9ba-4ce1-b46f-dfdaf09cb4f3",
   "metadata": {},
   "source": [
    "### 문제2\n",
    "지금부터 ``score``가 10명의 학생들의 국어, 영어, 수학, 과학, 사회 점수를 뜻한다고 가정하자.\n",
    "\n",
    "이제 5개 과목의 평균점수를 뜻하는 ``avg_subject`` array(1차원)를 생성하시오. "
   ]
  },
  {
   "cell_type": "code",
   "execution_count": 4,
   "id": "e8883b66-cd75-46d1-930d-6c86afe24fbd",
   "metadata": {
    "tags": []
   },
   "outputs": [
    {
     "data": {
      "text/plain": [
       "array([64. , 48.8, 54.5, 52.3, 48.3])"
      ]
     },
     "execution_count": 4,
     "metadata": {},
     "output_type": "execute_result"
    }
   ],
   "source": [
    "avg_subject = np.mean(score, axis=0)\n",
    "avg_subject"
   ]
  },
  {
   "cell_type": "markdown",
   "id": "b936b53a-ff45-40ae-8fa4-f9d7f87a67ae",
   "metadata": {},
   "source": [
    "### 문제3\n",
    "학생별 평균점수를 뜻하는 ``avg_student`` array(1차원)를 생성하시오. "
   ]
  },
  {
   "cell_type": "code",
   "execution_count": 5,
   "id": "ccd55fa4-67de-4e1c-b044-53ad13b6dad3",
   "metadata": {
    "tags": []
   },
   "outputs": [
    {
     "data": {
      "text/plain": [
       "array([51. , 53.2, 56.4, 71.6, 37.4, 61.6, 29.2, 75.6, 46.2, 53.6])"
      ]
     },
     "execution_count": 5,
     "metadata": {},
     "output_type": "execute_result"
    }
   ],
   "source": [
    "avg_student = np.mean(score, axis=1)\n",
    "avg_student"
   ]
  },
  {
   "cell_type": "markdown",
   "id": "9d6a7e8c-2097-44c4-95ab-3acd4c693303",
   "metadata": {},
   "source": [
    "### 문제4\n",
    "10명 중 row의 index가 짝수인 학생은 여학생(index 0 포함), 홀수인 학생은 남학생이라고 할 때, <br>\n",
    "여학생 전체의 5개과목별 평균점수를 뜻하는 ``avg_female`` array(1차원)을 구하시오."
   ]
  },
  {
   "cell_type": "code",
   "execution_count": 6,
   "id": "3f596be7-53c3-4137-b579-96155bb4f067",
   "metadata": {
    "tags": []
   },
   "outputs": [
    {
     "data": {
      "text/plain": [
       "array([50.8, 27.2, 51.2, 54.6, 36.4])"
      ]
     },
     "execution_count": 6,
     "metadata": {},
     "output_type": "execute_result"
    }
   ],
   "source": [
    "avg_female = np.mean(score[::2], axis=0)\n",
    "avg_female"
   ]
  },
  {
   "cell_type": "markdown",
   "id": "38114eef-3e3d-4362-9883-8bb37f6891e1",
   "metadata": {},
   "source": [
    "### 문제5\n",
    "마찬가지로 남학생 전체의 5개과목별 평균점수를 뜻하는 ``avg_male`` array(1차원)을 구하시오."
   ]
  },
  {
   "cell_type": "code",
   "execution_count": 7,
   "id": "6ea4b113-e9b1-4009-912c-271d7d428512",
   "metadata": {
    "tags": []
   },
   "outputs": [
    {
     "data": {
      "text/plain": [
       "array([77.2, 70.4, 57.8, 50. , 60.2])"
      ]
     },
     "execution_count": 7,
     "metadata": {},
     "output_type": "execute_result"
    }
   ],
   "source": [
    "avg_male = np.mean(score[1::2], axis=0)\n",
    "avg_male"
   ]
  },
  {
   "cell_type": "markdown",
   "id": "dbb682ed-da23-4f41-af20-ccc281aa83ee",
   "metadata": {},
   "source": [
    "### 문제6\n",
    "5개 과목의 표준편차 std_array(1차원)를 생성하시오."
   ]
  },
  {
   "cell_type": "code",
   "execution_count": 27,
   "id": "d0502dbb-a6e4-49dd-a270-0aafadba8120",
   "metadata": {},
   "outputs": [
    {
     "data": {
      "text/plain": [
       "array([29.45318319, 31.86989175, 24.40676136, 29.97932621, 24.6771149 ])"
      ]
     },
     "execution_count": 27,
     "metadata": {},
     "output_type": "execute_result"
    }
   ],
   "source": [
    "std_array = np.std(score, axis=0)\n",
    "std_array"
   ]
  },
  {
   "cell_type": "markdown",
   "id": "97b59e4a-326f-4431-88b6-95cb4bccf46a",
   "metadata": {},
   "source": [
    "### 문제7\n",
    "각 과목의 최고점수(max) max_array(1차원)를 생성하시오."
   ]
  },
  {
   "cell_type": "code",
   "execution_count": 28,
   "id": "ff32c13d-1c7c-4749-86e2-3ddf7831c200",
   "metadata": {},
   "outputs": [
    {
     "data": {
      "text/plain": [
       "array([ 94,  99, 100,  94,  97])"
      ]
     },
     "execution_count": 28,
     "metadata": {},
     "output_type": "execute_result"
    }
   ],
   "source": [
    "max_array = np.max(score, axis=0)\n",
    "max_array"
   ]
  }
 ],
 "metadata": {
  "kernelspec": {
   "display_name": "Python 3",
   "language": "python",
   "name": "python3"
  },
  "language_info": {
   "codemirror_mode": {
    "name": "ipython",
    "version": 3
   },
   "file_extension": ".py",
   "mimetype": "text/x-python",
   "name": "python",
   "nbconvert_exporter": "python",
   "pygments_lexer": "ipython3",
   "version": "3.11.7"
  },
  "vscode": {
   "interpreter": {
    "hash": "b365a6c9ebcae92d26abc4b1d61256b03592a60592f2f5c979014a722ae38b9a"
   }
  }
 },
 "nbformat": 4,
 "nbformat_minor": 5
}
