{
 "cells": [
  {
   "cell_type": "code",
   "execution_count": 1,
   "id": "69eadbf8-78c4-496f-8223-67bc5c0bf539",
   "metadata": {
    "tags": []
   },
   "outputs": [],
   "source": [
    "## 할리스 커피 매장 정보 Web_Crawling\n",
    "import requests\n",
    "from bs4 import BeautifulSoup\n",
    "import pandas as pd"
   ]
  },
  {
   "cell_type": "code",
   "execution_count": 2,
   "id": "dff2e4b9-8c28-45bd-99f9-e4a5971fc4f1",
   "metadata": {
    "tags": []
   },
   "outputs": [],
   "source": [
    "## https://www.hollys.co.kr/store/korea/korStore2.do?pageNo=1&sido=&gugun=&store= (https://www.hollys.co.kr/ 의 Store 매뉴 사이트) \n",
    "## 전국 할리스 커피 매장 정보 검색 가능\n",
    "url = 'https://www.hollys.co.kr/store/korea/korStore2.do?pageNo=1&sido=&gugun=&store='\n",
    "\n",
    "res = requests.get(url)\n",
    "html_text = res.text\n",
    "html = BeautifulSoup(html_text, 'lxml')"
   ]
  },
  {
   "cell_type": "code",
   "execution_count": 3,
   "id": "f3c05961-df88-4fb8-9f73-b5c6075a1769",
   "metadata": {
    "tags": []
   },
   "outputs": [],
   "source": [
    "#html"
   ]
  },
  {
   "cell_type": "code",
   "execution_count": 4,
   "id": "db75aaf3-27aa-49a3-8775-d67de7881c61",
   "metadata": {
    "tags": []
   },
   "outputs": [],
   "source": [
    "# 전체 매장 정보 표 : <tbody> 태그\n",
    "t_tbody = html.find('tbody')\n",
    "#t_tbody"
   ]
  },
  {
   "cell_type": "code",
   "execution_count": 5,
   "id": "fcf8c30c-c1e5-4a66-b0ad-2c96e99be435",
   "metadata": {
    "tags": []
   },
   "outputs": [
    {
     "data": {
      "text/plain": [
       "<tr>\n",
       "<!--\n",
       "\t\t\t\t<td class=\"noline center_t\">\n",
       "\t\t\t\t\t\t\t\t\t\t\t\t\t\t\t\t<a href=\"javascript:goLogin();\"><img src=\"https://www.hollys.co.kr/websrc/images/store/ico_favorite_off.png\" alt=\"즐겨찾기\"></a>\n",
       "\t\t\t\t\t\t\t\t\t</td>\n",
       "\t\t\t\t -->\n",
       "<td class=\"noline center_t\">경기 성남시 중원구</td>\n",
       "<td class=\"center_t\"><a href=\"#\" onclick=\"javascript:storeView(1179); return false;\">성남모란역점</a></td>\n",
       "<td class=\"center_t tdp0\">영업중</td>\n",
       "<td class=\"center_t\"><a href=\"#\" onclick=\"javascript:storeView(1179); return false;\">경기도 성남시 중원구 성남대로1148번길 8 (성남동) 1층, 성남동3453</a></td>\n",
       "<td class=\"center_t\">\n",
       "</td>\n",
       "<td class=\"center_t\">031-758-5953</td>\n",
       "</tr>"
      ]
     },
     "execution_count": 5,
     "metadata": {},
     "output_type": "execute_result"
    }
   ],
   "source": [
    "# 1행('성남모란역점') 정보 : <tbody> 태그 하위의 첫 번째 <tr> 태그\n",
    "t_tr = t_tbody.find('tr')\n",
    "t_tr"
   ]
  },
  {
   "cell_type": "code",
   "execution_count": 6,
   "id": "77e0f3c3-d723-4f5b-8230-af530b677ec7",
   "metadata": {
    "tags": []
   },
   "outputs": [
    {
     "data": {
      "text/plain": [
       "<tr>\n",
       "<!--\n",
       "\t\t\t\t<td class=\"noline center_t\">\n",
       "\t\t\t\t\t\t\t\t\t\t\t\t\t\t\t\t<a href=\"javascript:goLogin();\"><img src=\"https://www.hollys.co.kr/websrc/images/store/ico_favorite_off.png\" alt=\"즐겨찾기\"></a>\n",
       "\t\t\t\t\t\t\t\t\t</td>\n",
       "\t\t\t\t -->\n",
       "<td class=\"noline center_t\">경기 성남시 중원구</td>\n",
       "<td class=\"center_t\"><a href=\"#\" onclick=\"javascript:storeView(1179); return false;\">성남모란역점</a></td>\n",
       "<td class=\"center_t tdp0\">영업중</td>\n",
       "<td class=\"center_t\"><a href=\"#\" onclick=\"javascript:storeView(1179); return false;\">경기도 성남시 중원구 성남대로1148번길 8 (성남동) 1층, 성남동3453</a></td>\n",
       "<td class=\"center_t\">\n",
       "</td>\n",
       "<td class=\"center_t\">031-758-5953</td>\n",
       "</tr>"
      ]
     },
     "execution_count": 6,
     "metadata": {},
     "output_type": "execute_result"
    }
   ],
   "source": [
    "# 모든 행 정보 : <tbody> 태그 하위의 각 <tr> 태그\n",
    "t_tr = t_tbody.find_all('tr') ## 모든 행\n",
    "t_tr[0] ## 첫 번째 행"
   ]
  },
  {
   "cell_type": "code",
   "execution_count": 7,
   "id": "f74bf791-ae11-4906-9f3c-f626538fda05",
   "metadata": {
    "tags": []
   },
   "outputs": [
    {
     "data": {
      "text/plain": [
       "<td class=\"noline center_t\">경기 성남시 중원구</td>"
      ]
     },
     "execution_count": 7,
     "metadata": {},
     "output_type": "execute_result"
    }
   ],
   "source": [
    "## 모든 행에서 각 열의 정보 : <td class='속성값'> 태그로 구분\n",
    "## 첫번 째 매장 직역 추출\n",
    "t_td = t_tr[0].find('td', class_='noline center_t')\n",
    "t_td"
   ]
  },
  {
   "cell_type": "code",
   "execution_count": 8,
   "id": "741c28a4-8fa9-46e9-8b36-69929b98b6f1",
   "metadata": {
    "tags": []
   },
   "outputs": [
    {
     "data": {
      "text/plain": [
       "[<td class=\"noline center_t\">경기 성남시 중원구</td>,\n",
       " <td class=\"noline center_t\">강원 원주시</td>,\n",
       " <td class=\"noline center_t\">인천 남동구</td>,\n",
       " <td class=\"noline center_t\">대구 수성구</td>,\n",
       " <td class=\"noline center_t\">서울 강동구</td>,\n",
       " <td class=\"noline center_t\">서울 강동구</td>,\n",
       " <td class=\"noline center_t\">경남 창원시 의창구</td>,\n",
       " <td class=\"noline center_t\">서울 강남구</td>,\n",
       " <td class=\"noline center_t\">강원 동해시</td>,\n",
       " <td class=\"noline center_t\">충남 홍성군</td>]"
      ]
     },
     "execution_count": 8,
     "metadata": {},
     "output_type": "execute_result"
    }
   ],
   "source": [
    "## 모든 첫 번째 열(지역) 추출\n",
    "t_td = t_tbody.find_all('td', class_='noline center_t')\n",
    "t_td"
   ]
  },
  {
   "cell_type": "code",
   "execution_count": 9,
   "id": "0eed9954-9fc4-4f34-adcf-0f56e1261c68",
   "metadata": {
    "tags": []
   },
   "outputs": [
    {
     "name": "stdout",
     "output_type": "stream",
     "text": [
      "경기 성남시 중원구\n",
      "강원 원주시\n",
      "인천 남동구\n",
      "대구 수성구\n",
      "서울 강동구\n",
      "서울 강동구\n",
      "경남 창원시 의창구\n",
      "서울 강남구\n",
      "강원 동해시\n",
      "충남 홍성군\n"
     ]
    }
   ],
   "source": [
    "## t_tr(모든 행 정보)에서 각 지역만 추출\n",
    "for t in t_tr:\n",
    "    t_td = t.find('td', class_='noline center_t')\n",
    "    print(t_td.text)"
   ]
  },
  {
   "cell_type": "code",
   "execution_count": 10,
   "id": "22122472-0f5c-43ac-9efd-9fcd00ee19b1",
   "metadata": {
    "tags": []
   },
   "outputs": [],
   "source": [
    "## 모든 페이지의 지역 정보 crawling\n",
    "result = [] \n",
    "for page in range(1,49):\n",
    "    url = \"https://www.hollys.co.kr/store/korea/korStore2.do?pageNo=\"+str(page)+\"&sido=&gugun=&store=\"\n",
    "    res = requests.get(url)\n",
    "    html_text = res.text\n",
    "    html = BeautifulSoup(html_text, 'lxml')\n",
    "    t_tbody = html.find('tbody')\n",
    "    t_tr = t_tbody.find_all('tr')\n",
    "    for t in t_tr:\n",
    "        t_td = t.find('td', class_='noline center_t')\n",
    "        result.append(t_td.text)"
   ]
  },
  {
   "cell_type": "code",
   "execution_count": 11,
   "id": "8efa5ffb-0513-4748-8489-f1330a4bb05c",
   "metadata": {
    "tags": []
   },
   "outputs": [],
   "source": [
    "#result"
   ]
  },
  {
   "cell_type": "code",
   "execution_count": 12,
   "id": "0be40239-ee10-4f72-a436-5ab6ef1125b8",
   "metadata": {
    "tags": []
   },
   "outputs": [
    {
     "data": {
      "text/plain": [
       "[<td class=\"noline center_t\">경기 성남시 중원구</td>,\n",
       " <td class=\"center_t\"><a href=\"#\" onclick=\"javascript:storeView(1179); return false;\">성남모란역점</a></td>,\n",
       " <td class=\"center_t tdp0\">영업중</td>,\n",
       " <td class=\"center_t\"><a href=\"#\" onclick=\"javascript:storeView(1179); return false;\">경기도 성남시 중원구 성남대로1148번길 8 (성남동) 1층, 성남동3453</a></td>,\n",
       " <td class=\"center_t\">\n",
       " </td>,\n",
       " <td class=\"center_t\">031-758-5953</td>]"
      ]
     },
     "execution_count": 12,
     "metadata": {},
     "output_type": "execute_result"
    }
   ],
   "source": [
    "## 각 열의 정보 : <td> 태그, class ='center_t' 속성에 있음\n",
    "url = 'https://www.hollys.co.kr/store/korea/korStore2.do?pageNo=1&sido=&gugun=&store='\n",
    "\n",
    "res = requests.get(url)\n",
    "html_text = res.text\n",
    "html = BeautifulSoup(html_text, 'lxml')\n",
    "t_tbody = html.find('tbody')\n",
    "t_tr = t_tbody.find('tr')\n",
    "t_td = t_tr.find_all('td', class_='center_t')\n",
    "t_td"
   ]
  },
  {
   "cell_type": "code",
   "execution_count": 13,
   "id": "32671db0-6375-4039-afa0-5ce70599a660",
   "metadata": {
    "tags": []
   },
   "outputs": [
    {
     "name": "stdout",
     "output_type": "stream",
     "text": [
      "경기 성남시 중원구 성남모란역점 경기도 성남시 중원구 성남대로1148번길 8 (성남동) 1층, 성남동3453 031-758-5953\n"
     ]
    }
   ],
   "source": [
    "## 지역, 매장명, 주소, 전화번호 출력\n",
    "print(t_td[0].text, t_td[1].text, t_td[3].text, t_td[5].text)"
   ]
  },
  {
   "cell_type": "code",
   "execution_count": 14,
   "id": "239ebbfd-00c6-4728-89a0-002e9d3d7480",
   "metadata": {
    "tags": []
   },
   "outputs": [],
   "source": [
    "## 모든 페이지의 지역, 매장명, 주소, 전화번호 crawling\n",
    "result = [] \n",
    "for page in range(1,50):    \n",
    "    url = \"https://www.hollys.co.kr/store/korea/korStore2.do?pageNo=\"+str(page)+\"&sido=&gugun=&store=\"\n",
    "    res = requests.get(url)\n",
    "    html_text = res.text\n",
    "    html = BeautifulSoup(html_text, 'lxml')\n",
    "    t_tbody = html.find('tbody')\n",
    "    t_tr = t_tbody.find_all('tr')\n",
    "    for t in t_tr:\n",
    "        t_td = t.find_all('td', class_='center_t')\n",
    "        store_name = t_td[1].text  ## 매장명\n",
    "        store_sido = t_td[0].text  ## 지역\n",
    "        store_address = t_td[3].text  ## 주소\n",
    "        store_phone = t_td[5].text  ## 전화번호\n",
    "        result.append([store_name]+[store_sido]+[store_address]+[store_phone])"
   ]
  },
  {
   "cell_type": "code",
   "execution_count": 15,
   "id": "c0de080d-2866-4733-a100-c7836121e262",
   "metadata": {
    "tags": []
   },
   "outputs": [
    {
     "data": {
      "text/plain": [
       "483"
      ]
     },
     "execution_count": 15,
     "metadata": {},
     "output_type": "execute_result"
    }
   ],
   "source": [
    "## 총 결과의 길이\n",
    "len(result)"
   ]
  },
  {
   "cell_type": "code",
   "execution_count": 16,
   "id": "e937bf88-fd22-4718-a198-9e573bea56bb",
   "metadata": {
    "tags": []
   },
   "outputs": [
    {
     "data": {
      "text/plain": [
       "['성남모란역점',\n",
       " '경기 성남시 중원구',\n",
       " '경기도 성남시 중원구 성남대로1148번길 8 (성남동) 1층, 성남동3453',\n",
       " '031-758-5953']"
      ]
     },
     "execution_count": 16,
     "metadata": {},
     "output_type": "execute_result"
    }
   ],
   "source": [
    "## 첫 행의 내용\n",
    "result[0]"
   ]
  },
  {
   "cell_type": "code",
   "execution_count": 17,
   "id": "cbd00714-e926-44b5-8a29-d16033f09dec",
   "metadata": {
    "tags": []
   },
   "outputs": [
    {
     "data": {
      "text/plain": [
       "['신촌점', '서울 서대문구', '서울특별시 서대문구 연세로 34 (창천동 31-12)  할리스', '02-393-2004']"
      ]
     },
     "execution_count": 17,
     "metadata": {},
     "output_type": "execute_result"
    }
   ],
   "source": [
    "## 마지막 행의 내용\n",
    "result[482]"
   ]
  },
  {
   "cell_type": "code",
   "execution_count": 18,
   "id": "150870c2-7c48-4e78-ac5f-b1055308990e",
   "metadata": {
    "tags": []
   },
   "outputs": [],
   "source": [
    "## 데이터 프레임으로 변환\n",
    "hollys_df = pd.DataFrame(result, columns = ('점포명','지역','주소','전화번호'))"
   ]
  },
  {
   "cell_type": "code",
   "execution_count": 19,
   "id": "8c49d1ae-c1b1-467a-816a-a7884119a4ef",
   "metadata": {
    "tags": []
   },
   "outputs": [
    {
     "data": {
      "text/html": [
       "<div>\n",
       "<style scoped>\n",
       "    .dataframe tbody tr th:only-of-type {\n",
       "        vertical-align: middle;\n",
       "    }\n",
       "\n",
       "    .dataframe tbody tr th {\n",
       "        vertical-align: top;\n",
       "    }\n",
       "\n",
       "    .dataframe thead th {\n",
       "        text-align: right;\n",
       "    }\n",
       "</style>\n",
       "<table border=\"1\" class=\"dataframe\">\n",
       "  <thead>\n",
       "    <tr style=\"text-align: right;\">\n",
       "      <th></th>\n",
       "      <th>점포명</th>\n",
       "      <th>지역</th>\n",
       "      <th>주소</th>\n",
       "      <th>전화번호</th>\n",
       "    </tr>\n",
       "  </thead>\n",
       "  <tbody>\n",
       "    <tr>\n",
       "      <th>0</th>\n",
       "      <td>성남모란역점</td>\n",
       "      <td>경기 성남시 중원구</td>\n",
       "      <td>경기도 성남시 중원구 성남대로1148번길 8 (성남동) 1층, 성남동3453</td>\n",
       "      <td>031-758-5953</td>\n",
       "    </tr>\n",
       "    <tr>\n",
       "      <th>1</th>\n",
       "      <td>(춘)치악휴게소점</td>\n",
       "      <td>강원 원주시</td>\n",
       "      <td>강원도 원주시 신림면 다리실2길 32 .</td>\n",
       "      <td>033-762-8129</td>\n",
       "    </tr>\n",
       "    <tr>\n",
       "      <th>2</th>\n",
       "      <td>간석오거리점</td>\n",
       "      <td>인천 남동구</td>\n",
       "      <td>인천광역시 남동구 남동대로 931 (간석동) 씨앤케이 웨딩홀</td>\n",
       "      <td>032-425-0915</td>\n",
       "    </tr>\n",
       "    <tr>\n",
       "      <th>3</th>\n",
       "      <td>대구범어천로점</td>\n",
       "      <td>대구 수성구</td>\n",
       "      <td>대구광역시 수성구 범어천로 200 (범어동, 범어월드메르디앙웨스턴카운티) 102호,...</td>\n",
       "      <td>053-759-5779</td>\n",
       "    </tr>\n",
       "    <tr>\n",
       "      <th>4</th>\n",
       "      <td>길동포유르센티점</td>\n",
       "      <td>서울 강동구</td>\n",
       "      <td>서울특별시 강동구 진황도로 104 (길동) 1층 (101~102호)</td>\n",
       "      <td>02-487-9997</td>\n",
       "    </tr>\n",
       "  </tbody>\n",
       "</table>\n",
       "</div>"
      ],
      "text/plain": [
       "         점포명          지역                                                 주소  \\\n",
       "0     성남모란역점  경기 성남시 중원구         경기도 성남시 중원구 성남대로1148번길 8 (성남동) 1층, 성남동3453   \n",
       "1  (춘)치악휴게소점      강원 원주시                             강원도 원주시 신림면 다리실2길 32 .   \n",
       "2     간석오거리점      인천 남동구                  인천광역시 남동구 남동대로 931 (간석동) 씨앤케이 웨딩홀   \n",
       "3    대구범어천로점      대구 수성구  대구광역시 수성구 범어천로 200 (범어동, 범어월드메르디앙웨스턴카운티) 102호,...   \n",
       "4   길동포유르센티점      서울 강동구              서울특별시 강동구 진황도로 104 (길동) 1층 (101~102호)   \n",
       "\n",
       "           전화번호  \n",
       "0  031-758-5953  \n",
       "1  033-762-8129  \n",
       "2  032-425-0915  \n",
       "3  053-759-5779  \n",
       "4   02-487-9997  "
      ]
     },
     "execution_count": 19,
     "metadata": {},
     "output_type": "execute_result"
    }
   ],
   "source": [
    "## 데이터 프레임의 첫 5행 확인\n",
    "hollys_df.head()"
   ]
  },
  {
   "cell_type": "code",
   "execution_count": 20,
   "id": "2c70f01c-44b5-4935-a638-13875003f760",
   "metadata": {
    "tags": []
   },
   "outputs": [
    {
     "data": {
      "text/html": [
       "<div>\n",
       "<style scoped>\n",
       "    .dataframe tbody tr th:only-of-type {\n",
       "        vertical-align: middle;\n",
       "    }\n",
       "\n",
       "    .dataframe tbody tr th {\n",
       "        vertical-align: top;\n",
       "    }\n",
       "\n",
       "    .dataframe thead th {\n",
       "        text-align: right;\n",
       "    }\n",
       "</style>\n",
       "<table border=\"1\" class=\"dataframe\">\n",
       "  <thead>\n",
       "    <tr style=\"text-align: right;\">\n",
       "      <th></th>\n",
       "      <th>점포명</th>\n",
       "      <th>지역</th>\n",
       "      <th>주소</th>\n",
       "      <th>전화번호</th>\n",
       "    </tr>\n",
       "  </thead>\n",
       "  <tbody>\n",
       "    <tr>\n",
       "      <th>478</th>\n",
       "      <td>합정역점</td>\n",
       "      <td>서울 마포구</td>\n",
       "      <td>서울특별시 마포구 양화로 36 (합정동 374-1) 할리스</td>\n",
       "      <td>02-6204-1234</td>\n",
       "    </tr>\n",
       "    <tr>\n",
       "      <th>479</th>\n",
       "      <td>부산달맞이점</td>\n",
       "      <td>부산 해운대구</td>\n",
       "      <td>부산광역시 해운대구 달맞이길 199, 2~3층 (중동 1488-14) 할리스</td>\n",
       "      <td>051-731-3410</td>\n",
       "    </tr>\n",
       "    <tr>\n",
       "      <th>480</th>\n",
       "      <td>신림점</td>\n",
       "      <td>서울 관악구</td>\n",
       "      <td>서울특별시 관악구 신림로 353-1</td>\n",
       "      <td>02-877-0019</td>\n",
       "    </tr>\n",
       "    <tr>\n",
       "      <th>481</th>\n",
       "      <td>태평로점</td>\n",
       "      <td>서울 중구</td>\n",
       "      <td>서울특별시 중구 세종대로 64, 해남빌딩 1층 (태평로2가 70-5) 할리스</td>\n",
       "      <td>02-755-7795</td>\n",
       "    </tr>\n",
       "    <tr>\n",
       "      <th>482</th>\n",
       "      <td>신촌점</td>\n",
       "      <td>서울 서대문구</td>\n",
       "      <td>서울특별시 서대문구 연세로 34 (창천동 31-12)  할리스</td>\n",
       "      <td>02-393-2004</td>\n",
       "    </tr>\n",
       "  </tbody>\n",
       "</table>\n",
       "</div>"
      ],
      "text/plain": [
       "        점포명       지역                                          주소          전화번호\n",
       "478    합정역점   서울 마포구            서울특별시 마포구 양화로 36 (합정동 374-1) 할리스  02-6204-1234\n",
       "479  부산달맞이점  부산 해운대구  부산광역시 해운대구 달맞이길 199, 2~3층 (중동 1488-14) 할리스  051-731-3410\n",
       "480     신림점   서울 관악구                         서울특별시 관악구 신림로 353-1   02-877-0019\n",
       "481    태평로점    서울 중구  서울특별시 중구 세종대로 64, 해남빌딩 1층 (태평로2가 70-5) 할리스   02-755-7795\n",
       "482     신촌점  서울 서대문구          서울특별시 서대문구 연세로 34 (창천동 31-12)  할리스   02-393-2004"
      ]
     },
     "execution_count": 20,
     "metadata": {},
     "output_type": "execute_result"
    }
   ],
   "source": [
    "## 데이터 프레임의 마지막 5행 확인\n",
    "hollys_df.tail()"
   ]
  },
  {
   "cell_type": "code",
   "execution_count": 21,
   "id": "b89ed3b0-7c21-411c-aecd-d509ecb8bc96",
   "metadata": {
    "tags": []
   },
   "outputs": [],
   "source": [
    "## 데이터 프레임을 csv 파일로 저장\n",
    "hollys_df.to_csv(\"hollys.csv\", index = False)"
   ]
  },
  {
   "cell_type": "code",
   "execution_count": null,
   "id": "4030ee41-d3c4-4bb1-b73c-555dcff8b0c7",
   "metadata": {},
   "outputs": [],
   "source": []
  }
 ],
 "metadata": {
  "kernelspec": {
   "display_name": "Python 3 (ipykernel)",
   "language": "python",
   "name": "python3"
  },
  "language_info": {
   "codemirror_mode": {
    "name": "ipython",
    "version": 3
   },
   "file_extension": ".py",
   "mimetype": "text/x-python",
   "name": "python",
   "nbconvert_exporter": "python",
   "pygments_lexer": "ipython3",
   "version": "3.9.18"
  }
 },
 "nbformat": 4,
 "nbformat_minor": 5
}
